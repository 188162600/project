{
 "cells": [
  {
   "cell_type": "markdown",
   "id": "ff264c4f-6879-4a67-a7c7-9a041b8eb951",
   "metadata": {},
   "source": [
    "# Planetary motion"
   ]
  },
  {
   "cell_type": "markdown",
   "id": "7cb90329-4ad1-478e-9cb0-519deb7d881d",
   "metadata": {},
   "source": [
    "## Introduction and motivation"
   ]
  },
  {
   "cell_type": "markdown",
   "id": "25770386-2e4a-4d05-9db8-9144fc14259e",
   "metadata": {},
   "source": [
    "## Verlet algorithm and Newton's equations\n",
    "\n",
    "Verlet algorithm is as follows\n",
    "\n",
    "$$$$"
   ]
  },
  {
   "cell_type": "markdown",
   "id": "fda1e600-8da4-41f8-b101-38f10d3dba37",
   "metadata": {},
   "source": [
    "The Verlet algorithm is as follows\n",
    "\n",
    "$$\\boldsymbol{r}_{k+1} = \\boldsymbol{r}_k + \\boldsymbol{v}_k dt + \\boldsymbol{a}(\\boldsymbol{r}_k) dt^2$$\n",
    "$$\\boldsymbol{v}_{k+1} = \\boldsymbol{v}_k + (\\boldsymbol{a}(\\boldsymbol{r}_k) + \\boldsymbol{a}(\\boldsymbol{r}_{k+1})) dt.$$"
   ]
  },
  {
   "cell_type": "markdown",
   "id": "a4fcf498-a3c6-45dd-bfd5-f853dd9c8d03",
   "metadata": {},
   "source": [
    "[CORE1] Use the velocity Verlet algorithm to solve Newton’s equations of motion for the one-dimensional harmonic oscillator, $m\\Ddot{x}=−kx$, or\n",
    "$$\\Dot{x} = v, \\text{ } \\Dot{v} = −\\frac{m}{k}x.$$\n",
    "Compare the numerical solution and the exact solution by plotting $x(t)$ and the phase-\n",
    "space trajectories $(x(t),v(t))$ for both."
   ]
  },
  {
   "cell_type": "markdown",
   "id": "1c430e98-c4db-4fad-96bb-5b5b057b0c3d",
   "metadata": {},
   "source": [
    "## Earth-like orbit simulation"
   ]
  },
  {
   "cell_type": "markdown",
   "id": "bb2206aa-417a-4bc6-958e-73cb157b8078",
   "metadata": {},
   "source": [
    "[CORE2] Simulate the motion of an earth-like planet around the sun. The mass of the sun is $1.989\\times10^{30}$kg, and the radius of the earth’s orbit is on average $149.6$ million kilometers (i.e. $R = 149.6\\times10^9$ m). You can assume that the sun is fixed and that only the earth moves, which is a pretty good approximation in practice. As a consequence of the conservation of angular momentum, you can assume that the sun and the earth lie in a plane, say the $xy$–plane. With this assumption, the position and velocity of the Earth, $\\boldsymbol{r}$ and $\\boldsymbol{v}$, can be taken to be two-dimensional vectors."
   ]
  },
  {
   "cell_type": "markdown",
   "id": "c02222ff-724d-4922-9df8-280a756cdbf6",
   "metadata": {},
   "source": [
    "### Verification of closed orbit and energy conservation"
   ]
  },
  {
   "cell_type": "markdown",
   "id": "a8f24216-9879-465d-a243-114901fd4d07",
   "metadata": {},
   "source": [
    "[CORE3] Verify that you find a closed orbit for a planet with the earth’s initial position $\\boldsymbol{r}_0 = R \\hat{\\boldsymbol{x}}$ and tangential initial velocity $\\boldsymbol{v}_0 = 29.8\\frac{\\text{km}}{\\text{s}} \\hat{\\boldsymbol{y}}$. Check that the total energy remains constant. Analytically derive the speed $\\boldsymbol{v}_0$ by assuming that the Earth’s orbit is circular. (The equation that describes circular motion is $F = mv^2/r$, where $r$ denotes the radius of the circle, $F$ denotes the magnitude of the force, which is directed towards the centre of the circle, and $v$ denotes the magnitude of velocity, which is assumed to be constant.)"
   ]
  },
  {
   "cell_type": "markdown",
   "id": "0c9f5f8a-ce2f-498d-8c54-d80c8e567cd9",
   "metadata": {},
   "source": [
    "### Bounded and unbounded trajectories"
   ]
  },
  {
   "cell_type": "markdown",
   "id": "57ef8181-a8d0-4a7f-8fb7-a5eccf66964c",
   "metadata": {},
   "source": [
    "[CORE4] Now vary the total energy of the orbit by changing the value, but not the direction, of $\\boldsymbol{v}_0$ over a range of values that produce both bounded and unbounded trajectories. Plot the trajectories, which are now either ellipses or hyperbola (or, for a specific value of the velocity, a parabola). For the elliptical trajectories, calculate the perihelion $P$ (closest distance to the Sun) and the aphelion $A$ (furthest distance from the Sun). From these, calculate the semimajor axis $a$, the semiminor axis $b$, and the eccentricity $\\epsilon$ of the elliptical orbit using the following formulas:\n",
    "$$a = (A + P )/2,$$\n",
    "$$b = \\sqrt{AP},$$\n",
    "$$\\epsilon = \\frac{A-P}{A+P}.$$\n",
    "Construct a criterion to distinguish elliptical and hyperbolic trajectories. Determine the escape speed of an Earth-like planet from the Sun’s gravitational field. Determine the corresponding energy, and compare it to the theoretical result, which you can derive from (T + V )|initial = (T + V )|r=∞."
   ]
  },
  {
   "cell_type": "markdown",
   "id": "58c357fb-fbb1-4623-b860-e86ce1bf80b5",
   "metadata": {
    "tags": []
   },
   "source": [
    "## Kepler's second law"
   ]
  },
  {
   "cell_type": "markdown",
   "id": "4cc2e18b-1644-41ef-8057-981bad851875",
   "metadata": {},
   "source": [
    "## Three-body problem"
   ]
  },
  {
   "cell_type": "markdown",
   "id": "8d1d4dbb-edf8-4aa3-a1d5-36b4e141984f",
   "metadata": {},
   "source": [
    "## Solar system simulation"
   ]
  },
  {
   "cell_type": "markdown",
   "id": "36b9b8e0-e829-465b-bab6-c3c676d0db51",
   "metadata": {},
   "source": [
    "## Exoplanet trajectory"
   ]
  },
  {
   "cell_type": "markdown",
   "id": "eb571c62-8291-4743-81c6-a51c62e1c1a2",
   "metadata": {},
   "source": [
    "## Solar eclipses"
   ]
  },
  {
   "cell_type": "code",
   "execution_count": null,
   "id": "030ef001-7a4e-452a-95d3-a870ddeda895",
   "metadata": {},
   "outputs": [],
   "source": []
  },
  {
   "cell_type": "markdown",
   "id": "c952ccff",
   "metadata": {},
   "source": [
    "# Planetary motion"
   ]
  },
  {
   "cell_type": "markdown",
   "id": "4ed1ff88",
   "metadata": {},
   "source": [
    "## Introduction and motivation"
   ]
  },
  {
   "cell_type": "markdown",
   "id": "b3a8f212",
   "metadata": {},
   "source": [
    "## Verlet algorithm and Newton's equations\n",
    "\n",
    "Verlet algorithm is as follows\n",
    "\n",
    "$$$$"
   ]
  },
  {
   "cell_type": "markdown",
   "id": "03ec950e",
   "metadata": {},
   "source": [
    "## Earth-like orbit simulation"
   ]
  },
  {
   "cell_type": "markdown",
   "id": "506b29e9",
   "metadata": {},
   "source": [
    "### Verification of closed orbit and energy conservation"
   ]
  },
  {
   "cell_type": "markdown",
   "id": "0b1030fa",
   "metadata": {},
   "source": [
    "### Bounded and unbounded trajectories"
   ]
  },
  {
   "cell_type": "markdown",
   "id": "3e9322da",
   "metadata": {
    "tags": []
   },
   "source": [
    "## Kepler's second law"
   ]
  },
  {
   "cell_type": "markdown",
   "id": "6ced365c",
   "metadata": {},
   "source": [
    "## Three-body problem"
   ]
  },
  {
   "cell_type": "markdown",
   "id": "17a1b680",
   "metadata": {},
   "source": [
    "## Solar system simulation"
   ]
  },
  {
   "cell_type": "markdown",
   "id": "450a3a18",
   "metadata": {},
   "source": [
    "## Exoplanet trajectory"
   ]
  },
  {
   "cell_type": "markdown",
   "id": "e00cff37",
   "metadata": {},
   "source": [
    "## Solar eclipses"
   ]
  },
  {
   "cell_type": "code",
   "execution_count": null,
   "id": "5306e7c1",
   "metadata": {},
   "outputs": [],
   "source": []
  }
 ],
 "metadata": {
  "kernelspec": {
   "display_name": "Python 3 (ipykernel)",
   "language": "python",
   "name": "python3"
  },
  "language_info": {
   "name": ""
  }
 },
 "nbformat": 4,
 "nbformat_minor": 5
}
